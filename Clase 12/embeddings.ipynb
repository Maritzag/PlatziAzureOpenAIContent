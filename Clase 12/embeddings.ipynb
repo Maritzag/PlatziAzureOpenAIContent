{
 "cells": [
  {
   "cell_type": "markdown",
   "metadata": {},
   "source": [
    "## Set up\n",
    "Importante east us: ada"
   ]
  },
  {
   "cell_type": "markdown",
   "metadata": {},
   "source": [
    "OpenAI Version: 0.27.4"
   ]
  },
  {
   "cell_type": "code",
   "execution_count": 34,
   "metadata": {},
   "outputs": [],
   "source": [
    "# pip install matplotlib\n",
    "# pip install plotly\n",
    "# pip install scipy\n",
    "# pip install scikit-learn"
   ]
  },
  {
   "cell_type": "markdown",
   "metadata": {},
   "source": [
    "\n",
    "Importante east us"
   ]
  },
  {
   "cell_type": "code",
   "execution_count": 35,
   "metadata": {},
   "outputs": [],
   "source": [
    "import openai\n",
    "import os\n",
    "import pandas as pd\n",
    "import numpy as np\n",
    "import sys\n",
    "import tiktoken\n",
    "\n",
    "from dotenv import load_dotenv\n",
    "from openai.embeddings_utils import get_embedding, cosine_similarity"
   ]
  },
  {
   "cell_type": "code",
   "execution_count": 36,
   "metadata": {},
   "outputs": [],
   "source": [
    "load_dotenv()\n",
    "\n",
    "openai.api_type: str = \"azure\"\n",
    "openai.api_key = os.getenv(\"AZURE_OAI_KEY_EMBEDDING\")\n",
    "openai.api_base = os.getenv(\"AZURE_OAI_ENDPOINT_EMBEDDING\")\n",
    "openai.api_version = os.getenv(\"OPENAI_API_VERSION_EMBEDDING\")"
   ]
  },
  {
   "cell_type": "code",
   "execution_count": 37,
   "metadata": {},
   "outputs": [
    {
     "data": {
      "text/html": [
       "<div>\n",
       "<style scoped>\n",
       "    .dataframe tbody tr th:only-of-type {\n",
       "        vertical-align: middle;\n",
       "    }\n",
       "\n",
       "    .dataframe tbody tr th {\n",
       "        vertical-align: top;\n",
       "    }\n",
       "\n",
       "    .dataframe thead th {\n",
       "        text-align: right;\n",
       "    }\n",
       "</style>\n",
       "<table border=\"1\" class=\"dataframe\">\n",
       "  <thead>\n",
       "    <tr style=\"text-align: right;\">\n",
       "      <th></th>\n",
       "      <th>Recipe</th>\n",
       "    </tr>\n",
       "  </thead>\n",
       "  <tbody>\n",
       "    <tr>\n",
       "      <th>0</th>\n",
       "      <td>Recipe: Caramelized Bread Pudding with Chocola...</td>\n",
       "    </tr>\n",
       "    <tr>\n",
       "      <th>1</th>\n",
       "      <td>Recipe: White Sauce or Bechamel Sauce - Ingred...</td>\n",
       "    </tr>\n",
       "    <tr>\n",
       "      <th>2</th>\n",
       "      <td>Recipe: Grilled Whole Mackerel with Lemon, Ore...</td>\n",
       "    </tr>\n",
       "    <tr>\n",
       "      <th>3</th>\n",
       "      <td>Recipe: Christmas Croquembouche - Ingredients:...</td>\n",
       "    </tr>\n",
       "    <tr>\n",
       "      <th>4</th>\n",
       "      <td>Recipe: Chocolate Roll-Out Cookies - Ingredien...</td>\n",
       "    </tr>\n",
       "  </tbody>\n",
       "</table>\n",
       "</div>"
      ],
      "text/plain": [
       "                                              Recipe\n",
       "0  Recipe: Caramelized Bread Pudding with Chocola...\n",
       "1  Recipe: White Sauce or Bechamel Sauce - Ingred...\n",
       "2  Recipe: Grilled Whole Mackerel with Lemon, Ore...\n",
       "3  Recipe: Christmas Croquembouche - Ingredients:...\n",
       "4  Recipe: Chocolate Roll-Out Cookies - Ingredien..."
      ]
     },
     "execution_count": 37,
     "metadata": {},
     "output_type": "execute_result"
    }
   ],
   "source": [
    "input_datapath = \"recipes_onecol.csv\"\n",
    "\n",
    "df = pd.read_csv(input_datapath)\n",
    "df.head()"
   ]
  },
  {
   "cell_type": "markdown",
   "metadata": {},
   "source": [
    "## Utilizando un modelo Ada para soportar embeddings"
   ]
  },
  {
   "cell_type": "code",
   "execution_count": 38,
   "metadata": {},
   "outputs": [],
   "source": [
    "embedding_encoding = \"cl100k_base\"\n",
    "# the maximum for text-embedding-ada-002 is 8191\n",
    "max_tokens = 8000\n",
    "# the number of reviews to embed\n",
    "top_n = 1000\n",
    "encoding = tiktoken.get_encoding(embedding_encoding)"
   ]
  },
  {
   "cell_type": "markdown",
   "metadata": {},
   "source": [
    "tokens por cada fila"
   ]
  },
  {
   "cell_type": "code",
   "execution_count": 39,
   "metadata": {},
   "outputs": [
    {
     "data": {
      "text/html": [
       "<div>\n",
       "<style scoped>\n",
       "    .dataframe tbody tr th:only-of-type {\n",
       "        vertical-align: middle;\n",
       "    }\n",
       "\n",
       "    .dataframe tbody tr th {\n",
       "        vertical-align: top;\n",
       "    }\n",
       "\n",
       "    .dataframe thead th {\n",
       "        text-align: right;\n",
       "    }\n",
       "</style>\n",
       "<table border=\"1\" class=\"dataframe\">\n",
       "  <thead>\n",
       "    <tr style=\"text-align: right;\">\n",
       "      <th></th>\n",
       "      <th>Recipe</th>\n",
       "      <th>n_tokens</th>\n",
       "    </tr>\n",
       "  </thead>\n",
       "  <tbody>\n",
       "    <tr>\n",
       "      <th>0</th>\n",
       "      <td>Recipe: Caramelized Bread Pudding with Chocola...</td>\n",
       "      <td>746</td>\n",
       "    </tr>\n",
       "    <tr>\n",
       "      <th>1</th>\n",
       "      <td>Recipe: White Sauce or Bechamel Sauce - Ingred...</td>\n",
       "      <td>396</td>\n",
       "    </tr>\n",
       "    <tr>\n",
       "      <th>2</th>\n",
       "      <td>Recipe: Grilled Whole Mackerel with Lemon, Ore...</td>\n",
       "      <td>749</td>\n",
       "    </tr>\n",
       "    <tr>\n",
       "      <th>3</th>\n",
       "      <td>Recipe: Christmas Croquembouche - Ingredients:...</td>\n",
       "      <td>1210</td>\n",
       "    </tr>\n",
       "    <tr>\n",
       "      <th>4</th>\n",
       "      <td>Recipe: Chocolate Roll-Out Cookies - Ingredien...</td>\n",
       "      <td>1047</td>\n",
       "    </tr>\n",
       "    <tr>\n",
       "      <th>...</th>\n",
       "      <td>...</td>\n",
       "      <td>...</td>\n",
       "    </tr>\n",
       "    <tr>\n",
       "      <th>494</th>\n",
       "      <td>Recipe: Mozzarella Arrabiata Salsa - Ingredien...</td>\n",
       "      <td>236</td>\n",
       "    </tr>\n",
       "    <tr>\n",
       "      <th>495</th>\n",
       "      <td>Recipe: Tangy Frozen Greek Yogurt - Ingredient...</td>\n",
       "      <td>245</td>\n",
       "    </tr>\n",
       "    <tr>\n",
       "      <th>496</th>\n",
       "      <td>Recipe: Belgian Ale-Braised Brisket - Ingredie...</td>\n",
       "      <td>739</td>\n",
       "    </tr>\n",
       "    <tr>\n",
       "      <th>497</th>\n",
       "      <td>Recipe: Banana and Mango Spring Rolls with Coc...</td>\n",
       "      <td>813</td>\n",
       "    </tr>\n",
       "    <tr>\n",
       "      <th>498</th>\n",
       "      <td>Recipe: Summery Confetti Salad - Ingredients: ...</td>\n",
       "      <td>286</td>\n",
       "    </tr>\n",
       "  </tbody>\n",
       "</table>\n",
       "<p>499 rows × 2 columns</p>\n",
       "</div>"
      ],
      "text/plain": [
       "                                                Recipe  n_tokens\n",
       "0    Recipe: Caramelized Bread Pudding with Chocola...       746\n",
       "1    Recipe: White Sauce or Bechamel Sauce - Ingred...       396\n",
       "2    Recipe: Grilled Whole Mackerel with Lemon, Ore...       749\n",
       "3    Recipe: Christmas Croquembouche - Ingredients:...      1210\n",
       "4    Recipe: Chocolate Roll-Out Cookies - Ingredien...      1047\n",
       "..                                                 ...       ...\n",
       "494  Recipe: Mozzarella Arrabiata Salsa - Ingredien...       236\n",
       "495  Recipe: Tangy Frozen Greek Yogurt - Ingredient...       245\n",
       "496  Recipe: Belgian Ale-Braised Brisket - Ingredie...       739\n",
       "497  Recipe: Banana and Mango Spring Rolls with Coc...       813\n",
       "498  Recipe: Summery Confetti Salad - Ingredients: ...       286\n",
       "\n",
       "[499 rows x 2 columns]"
      ]
     },
     "execution_count": 39,
     "metadata": {},
     "output_type": "execute_result"
    }
   ],
   "source": [
    "df[\"n_tokens\"] = df.Recipe.apply(lambda x: len(encoding.encode(x)))\n",
    "df = df[df.n_tokens <= max_tokens].tail(top_n)\n",
    "df"
   ]
  },
  {
   "cell_type": "markdown",
   "metadata": {},
   "source": [
    "Crear embeddings"
   ]
  },
  {
   "cell_type": "code",
   "execution_count": 40,
   "metadata": {},
   "outputs": [],
   "source": [
    "from openai.embeddings_utils import get_embedding, cosine_similarity\n",
    "def openai_text_embeddings(text):\n",
    "    \"\"\"\n",
    "    Generating embeddings from text using Azure Open AI\n",
    "    \"\"\"\n",
    "    embeddings = get_embedding(\n",
    "      text,\n",
    "        engine=\"text-embedding-ada-002\" # engine should be set to the deployment name you chose when you deployed the text-embedding-ada-002 (Version 2) model\n",
    "    )\n",
    "\n",
    "    return embeddings"
   ]
  },
  {
   "cell_type": "code",
   "execution_count": 41,
   "metadata": {},
   "outputs": [
    {
     "data": {
      "text/plain": [
       "1536"
      ]
     },
     "execution_count": 41,
     "metadata": {},
     "output_type": "execute_result"
    }
   ],
   "source": [
    "emb = openai_text_embeddings(\"Mi nombre es Maritza Mera\")\n",
    "len (emb)\n"
   ]
  },
  {
   "cell_type": "markdown",
   "metadata": {},
   "source": []
  },
  {
   "cell_type": "code",
   "execution_count": 43,
   "metadata": {},
   "outputs": [],
   "source": [
    "\n",
    "#si obtiene un error por llegar a límites de cuota, eliminé unas filas del dataset con la siguiente línea de código y vuelva a ejecutar el cálculo de embeddings\n",
    "#df.drop(df.index[100:600],  inplace=True)\n",
    "\n",
    "df[\"embedding\"] = df.Recipe.apply(lambda x: openai_text_embeddings(x))\n"
   ]
  },
  {
   "cell_type": "markdown",
   "metadata": {},
   "source": [
    "### Aplicar embeddings a todos los registros del dataframe"
   ]
  },
  {
   "cell_type": "code",
   "execution_count": 44,
   "metadata": {},
   "outputs": [
    {
     "data": {
      "text/html": [
       "<div>\n",
       "<style scoped>\n",
       "    .dataframe tbody tr th:only-of-type {\n",
       "        vertical-align: middle;\n",
       "    }\n",
       "\n",
       "    .dataframe tbody tr th {\n",
       "        vertical-align: top;\n",
       "    }\n",
       "\n",
       "    .dataframe thead th {\n",
       "        text-align: right;\n",
       "    }\n",
       "</style>\n",
       "<table border=\"1\" class=\"dataframe\">\n",
       "  <thead>\n",
       "    <tr style=\"text-align: right;\">\n",
       "      <th></th>\n",
       "      <th>Recipe</th>\n",
       "      <th>n_tokens</th>\n",
       "      <th>embedding</th>\n",
       "    </tr>\n",
       "  </thead>\n",
       "  <tbody>\n",
       "    <tr>\n",
       "      <th>0</th>\n",
       "      <td>Recipe: Caramelized Bread Pudding with Chocola...</td>\n",
       "      <td>746</td>\n",
       "      <td>[0.011631493456661701, -0.004553870297968388, ...</td>\n",
       "    </tr>\n",
       "    <tr>\n",
       "      <th>1</th>\n",
       "      <td>Recipe: White Sauce or Bechamel Sauce - Ingred...</td>\n",
       "      <td>396</td>\n",
       "      <td>[0.010483422316610813, 0.001243288628757, 0.00...</td>\n",
       "    </tr>\n",
       "    <tr>\n",
       "      <th>2</th>\n",
       "      <td>Recipe: Grilled Whole Mackerel with Lemon, Ore...</td>\n",
       "      <td>749</td>\n",
       "      <td>[0.035249724984169006, 0.015324844047427177, -...</td>\n",
       "    </tr>\n",
       "    <tr>\n",
       "      <th>3</th>\n",
       "      <td>Recipe: Christmas Croquembouche - Ingredients:...</td>\n",
       "      <td>1210</td>\n",
       "      <td>[-0.011104307137429714, -0.0020673261024057865...</td>\n",
       "    </tr>\n",
       "    <tr>\n",
       "      <th>4</th>\n",
       "      <td>Recipe: Chocolate Roll-Out Cookies - Ingredien...</td>\n",
       "      <td>1047</td>\n",
       "      <td>[-0.013839004561305046, -0.0015087819192558527...</td>\n",
       "    </tr>\n",
       "    <tr>\n",
       "      <th>...</th>\n",
       "      <td>...</td>\n",
       "      <td>...</td>\n",
       "      <td>...</td>\n",
       "    </tr>\n",
       "    <tr>\n",
       "      <th>95</th>\n",
       "      <td>Recipe: Creamed Pearl Onions and Fennel with C...</td>\n",
       "      <td>688</td>\n",
       "      <td>[0.01678382232785225, 0.0024797325022518635, 0...</td>\n",
       "    </tr>\n",
       "    <tr>\n",
       "      <th>96</th>\n",
       "      <td>Recipe: 3-Ingredient Morning Buns - Ingredient...</td>\n",
       "      <td>332</td>\n",
       "      <td>[-0.0036542131565511227, -0.00764241348952055,...</td>\n",
       "    </tr>\n",
       "    <tr>\n",
       "      <th>97</th>\n",
       "      <td>Recipe: Rosemary-Concord Shrub - Ingredients: ...</td>\n",
       "      <td>310</td>\n",
       "      <td>[0.033475566655397415, 0.002127485116943717, 0...</td>\n",
       "    </tr>\n",
       "    <tr>\n",
       "      <th>98</th>\n",
       "      <td>Recipe: Charred Caprese Sandwich - Ingredients...</td>\n",
       "      <td>685</td>\n",
       "      <td>[0.0004337150603532791, -0.011011882685124874,...</td>\n",
       "    </tr>\n",
       "    <tr>\n",
       "      <th>99</th>\n",
       "      <td>Recipe: Dark Chocolate Brownies with White Cho...</td>\n",
       "      <td>442</td>\n",
       "      <td>[-0.008237123489379883, -0.008178750053048134,...</td>\n",
       "    </tr>\n",
       "  </tbody>\n",
       "</table>\n",
       "<p>100 rows × 3 columns</p>\n",
       "</div>"
      ],
      "text/plain": [
       "                                               Recipe  n_tokens   \n",
       "0   Recipe: Caramelized Bread Pudding with Chocola...       746  \\\n",
       "1   Recipe: White Sauce or Bechamel Sauce - Ingred...       396   \n",
       "2   Recipe: Grilled Whole Mackerel with Lemon, Ore...       749   \n",
       "3   Recipe: Christmas Croquembouche - Ingredients:...      1210   \n",
       "4   Recipe: Chocolate Roll-Out Cookies - Ingredien...      1047   \n",
       "..                                                ...       ...   \n",
       "95  Recipe: Creamed Pearl Onions and Fennel with C...       688   \n",
       "96  Recipe: 3-Ingredient Morning Buns - Ingredient...       332   \n",
       "97  Recipe: Rosemary-Concord Shrub - Ingredients: ...       310   \n",
       "98  Recipe: Charred Caprese Sandwich - Ingredients...       685   \n",
       "99  Recipe: Dark Chocolate Brownies with White Cho...       442   \n",
       "\n",
       "                                            embedding  \n",
       "0   [0.011631493456661701, -0.004553870297968388, ...  \n",
       "1   [0.010483422316610813, 0.001243288628757, 0.00...  \n",
       "2   [0.035249724984169006, 0.015324844047427177, -...  \n",
       "3   [-0.011104307137429714, -0.0020673261024057865...  \n",
       "4   [-0.013839004561305046, -0.0015087819192558527...  \n",
       "..                                                ...  \n",
       "95  [0.01678382232785225, 0.0024797325022518635, 0...  \n",
       "96  [-0.0036542131565511227, -0.00764241348952055,...  \n",
       "97  [0.033475566655397415, 0.002127485116943717, 0...  \n",
       "98  [0.0004337150603532791, -0.011011882685124874,...  \n",
       "99  [-0.008237123489379883, -0.008178750053048134,...  \n",
       "\n",
       "[100 rows x 3 columns]"
      ]
     },
     "execution_count": 44,
     "metadata": {},
     "output_type": "execute_result"
    }
   ],
   "source": [
    "\n",
    "df"
   ]
  },
  {
   "cell_type": "code",
   "execution_count": 45,
   "metadata": {},
   "outputs": [
    {
     "data": {
      "text/html": [
       "<div>\n",
       "<style scoped>\n",
       "    .dataframe tbody tr th:only-of-type {\n",
       "        vertical-align: middle;\n",
       "    }\n",
       "\n",
       "    .dataframe tbody tr th {\n",
       "        vertical-align: top;\n",
       "    }\n",
       "\n",
       "    .dataframe thead th {\n",
       "        text-align: right;\n",
       "    }\n",
       "</style>\n",
       "<table border=\"1\" class=\"dataframe\">\n",
       "  <thead>\n",
       "    <tr style=\"text-align: right;\">\n",
       "      <th></th>\n",
       "      <th>Unnamed: 0</th>\n",
       "      <th>Recipe</th>\n",
       "      <th>n_tokens</th>\n",
       "      <th>embedding</th>\n",
       "    </tr>\n",
       "  </thead>\n",
       "  <tbody>\n",
       "    <tr>\n",
       "      <th>0</th>\n",
       "      <td>0</td>\n",
       "      <td>Recipe: Caramelized Bread Pudding with Chocola...</td>\n",
       "      <td>746</td>\n",
       "      <td>[0.009514863602817059, -0.004959321580827236, ...</td>\n",
       "    </tr>\n",
       "    <tr>\n",
       "      <th>1</th>\n",
       "      <td>1</td>\n",
       "      <td>Recipe: White Sauce or Bechamel Sauce - Ingred...</td>\n",
       "      <td>396</td>\n",
       "      <td>[0.006938737351447344, 5.168988718651235e-05, ...</td>\n",
       "    </tr>\n",
       "    <tr>\n",
       "      <th>2</th>\n",
       "      <td>2</td>\n",
       "      <td>Recipe: Grilled Whole Mackerel with Lemon, Ore...</td>\n",
       "      <td>749</td>\n",
       "      <td>[0.0321684330701828, 0.015827074646949768, -0....</td>\n",
       "    </tr>\n",
       "    <tr>\n",
       "      <th>3</th>\n",
       "      <td>3</td>\n",
       "      <td>Recipe: Christmas Croquembouche - Ingredients:...</td>\n",
       "      <td>1210</td>\n",
       "      <td>[-0.013321062549948692, -0.003860416589304805,...</td>\n",
       "    </tr>\n",
       "    <tr>\n",
       "      <th>4</th>\n",
       "      <td>4</td>\n",
       "      <td>Recipe: Chocolate Roll-Out Cookies - Ingredien...</td>\n",
       "      <td>1047</td>\n",
       "      <td>[-0.015186915174126625, -0.0015019221464172006...</td>\n",
       "    </tr>\n",
       "    <tr>\n",
       "      <th>...</th>\n",
       "      <td>...</td>\n",
       "      <td>...</td>\n",
       "      <td>...</td>\n",
       "      <td>...</td>\n",
       "    </tr>\n",
       "    <tr>\n",
       "      <th>494</th>\n",
       "      <td>494</td>\n",
       "      <td>Recipe: Mozzarella Arrabiata Salsa - Ingredien...</td>\n",
       "      <td>236</td>\n",
       "      <td>[0.007525882683694363, 0.0012005887692794204, ...</td>\n",
       "    </tr>\n",
       "    <tr>\n",
       "      <th>495</th>\n",
       "      <td>495</td>\n",
       "      <td>Recipe: Tangy Frozen Greek Yogurt - Ingredient...</td>\n",
       "      <td>245</td>\n",
       "      <td>[0.008731059730052948, -0.006505751982331276, ...</td>\n",
       "    </tr>\n",
       "    <tr>\n",
       "      <th>496</th>\n",
       "      <td>496</td>\n",
       "      <td>Recipe: Belgian Ale-Braised Brisket - Ingredie...</td>\n",
       "      <td>739</td>\n",
       "      <td>[0.002623694483190775, -0.0018848098115995526,...</td>\n",
       "    </tr>\n",
       "    <tr>\n",
       "      <th>497</th>\n",
       "      <td>497</td>\n",
       "      <td>Recipe: Banana and Mango Spring Rolls with Coc...</td>\n",
       "      <td>813</td>\n",
       "      <td>[-0.005268465261906385, -0.009891543537378311,...</td>\n",
       "    </tr>\n",
       "    <tr>\n",
       "      <th>498</th>\n",
       "      <td>498</td>\n",
       "      <td>Recipe: Summery Confetti Salad - Ingredients: ...</td>\n",
       "      <td>286</td>\n",
       "      <td>[-0.010836247354745865, 0.005015039350837469, ...</td>\n",
       "    </tr>\n",
       "  </tbody>\n",
       "</table>\n",
       "<p>499 rows × 4 columns</p>\n",
       "</div>"
      ],
      "text/plain": [
       "     Unnamed: 0                                             Recipe  n_tokens   \n",
       "0             0  Recipe: Caramelized Bread Pudding with Chocola...       746  \\\n",
       "1             1  Recipe: White Sauce or Bechamel Sauce - Ingred...       396   \n",
       "2             2  Recipe: Grilled Whole Mackerel with Lemon, Ore...       749   \n",
       "3             3  Recipe: Christmas Croquembouche - Ingredients:...      1210   \n",
       "4             4  Recipe: Chocolate Roll-Out Cookies - Ingredien...      1047   \n",
       "..          ...                                                ...       ...   \n",
       "494         494  Recipe: Mozzarella Arrabiata Salsa - Ingredien...       236   \n",
       "495         495  Recipe: Tangy Frozen Greek Yogurt - Ingredient...       245   \n",
       "496         496  Recipe: Belgian Ale-Braised Brisket - Ingredie...       739   \n",
       "497         497  Recipe: Banana and Mango Spring Rolls with Coc...       813   \n",
       "498         498  Recipe: Summery Confetti Salad - Ingredients: ...       286   \n",
       "\n",
       "                                             embedding  \n",
       "0    [0.009514863602817059, -0.004959321580827236, ...  \n",
       "1    [0.006938737351447344, 5.168988718651235e-05, ...  \n",
       "2    [0.0321684330701828, 0.015827074646949768, -0....  \n",
       "3    [-0.013321062549948692, -0.003860416589304805,...  \n",
       "4    [-0.015186915174126625, -0.0015019221464172006...  \n",
       "..                                                 ...  \n",
       "494  [0.007525882683694363, 0.0012005887692794204, ...  \n",
       "495  [0.008731059730052948, -0.006505751982331276, ...  \n",
       "496  [0.002623694483190775, -0.0018848098115995526,...  \n",
       "497  [-0.005268465261906385, -0.009891543537378311,...  \n",
       "498  [-0.010836247354745865, 0.005015039350837469, ...  \n",
       "\n",
       "[499 rows x 4 columns]"
      ]
     },
     "execution_count": 45,
     "metadata": {},
     "output_type": "execute_result"
    }
   ],
   "source": [
    "\n",
    "#Ejecute estas líneas de código para leer el dataset con los embeddings en un archivo csv en caso que no haya podido hacer cálculo de embeddings por límites de cuota\n",
    "datafile_path = \"recipes_onecol_with_embeddings.csv\"\n",
    "\n",
    "df = pd.read_csv(datafile_path)\n",
    "df[\"embedding\"] = df.embedding.apply(eval).apply(np.array)\n",
    "df"
   ]
  },
  {
   "cell_type": "markdown",
   "metadata": {},
   "source": [
    "## Función para hacer una pregunta y obtener una respuesta evaluando similiradidad"
   ]
  },
  {
   "cell_type": "code",
   "execution_count": 46,
   "metadata": {},
   "outputs": [],
   "source": [
    "def ask_question(question, n=1):\n",
    "    question_embedding = openai_text_embeddings(\n",
    "        question,\n",
    "    )\n",
    "\n",
    "    df[\"similarity\"] = df.embedding.apply(\n",
    "        lambda x: cosine_similarity(x, question_embedding)\n",
    "    )\n",
    "\n",
    "    results = df.sort_values(\"similarity\", ascending=False).head(n)\n",
    "    answer = \" \".join(results.Recipe.tolist())\n",
    "    print(\"Answer:\", answer)"
   ]
  },
  {
   "cell_type": "code",
   "execution_count": 47,
   "metadata": {},
   "outputs": [
    {
     "name": "stdout",
     "output_type": "stream",
     "text": [
      "Answer: Recipe: Raspberry Sundaes with Chocolate Sauce and Roasted Almonds - Ingredients: 6 ounces bittersweet chocolate, finely chopped;3/4 cup water;2/3 cups sugar;2 tablespoons honey;3 tablespoons unsalted butter;Pinch of kosher salt;1 pint fresh raspberries (12 ounces);2 tablespoons sugar;2 tablespoons elderflower liqueur, such as St-Germain;2 tablespoons fresh lemon juice;2 pints vanilla ice cream;Chopped roasted unsalted almonds, for garnish- Instructions: To make the chocolate sauce, place a saucepan over medium-low heat, combine the chocolate, and water, vigorously stirring until completely melted and smooth. Let it come to a low simmer until small bubbles appear around the outside. Add sugar, honey and keep at a low simmer until thickened, about 3 minutes. Remove from heat and stir in butter and salt. Chocolate sauce will smooth out at is cools to room temperature. Store in an airtight container. In a bowl, gently toss together the raspberries, sugar, elderflower liqueur, and lemon juice. Let stand in the refrigerator for 30 minutes (or up to 2 hours) before serving. Assemble the sundae: Scoop ice cream into individual bowls. Top with chocolate sauce, almonds, and macerated raspberries.\n",
      "To make the chocolate sauce, place a saucepan over medium-low heat, combine the chocolate, and water, vigorously stirring until completely melted and smooth. Let it come to a low simmer until small bubbles appear around the outside. Add sugar, honey and keep at a low simmer until thickened, about 3 minutes. Remove from heat and stir in butter and salt. Chocolate sauce will smooth out at is cools to room temperature. Store in an airtight container.\n",
      "In a bowl, gently toss together the raspberries, sugar, elderflower liqueur, and lemon juice. Let stand in the refrigerator for 30 minutes (or up to 2 hours) before serving.\n",
      "Assemble the sundae: Scoop ice cream into individual bowls. Top with chocolate sauce, almonds, and macerated raspberries.\n"
     ]
    }
   ],
   "source": [
    "ask_question(\"Chocolate and berries\")\n"
   ]
  },
  {
   "cell_type": "code",
   "execution_count": 48,
   "metadata": {},
   "outputs": [
    {
     "name": "stdout",
     "output_type": "stream",
     "text": [
      "Answer: Recipe: Soft Fish Tacos - Ingredients: 1/4 cup mayonnaise;1/4 cup ketchup;1/4 cup crema mexicana*;1 cup all purpose flour;1 teaspoon fine sea salt;1/2 teaspoon ground pepper;1 cup dark beer, room temperature;13/4 pounds halibut, cut into 5x3/4-inch strips;1 lime, halved crosswise;12 white corn tortillas;Vegetable oil (for deep-frying);1 1/2 cups shredded red cabbage;2 large tomatoes, chopped;Lime wedges;Bottled hot pepper sauce- Instructions: For sauce: Mix all ingredients in bowl; season with salt and pepper.\n",
      "Mix all ingredients in bowl; season with salt and pepper.\n",
      "For batter and fish: Whisk flour, salt, and pepper in bowl; pour in beer, whisking until batter is smooth. Let stand 15 minutes. Sprinkle fish with salt and pepper. Squeeze some lime juice over each strip. Let stand 15 minutes. Mix fish into batter. Preheat oven to 200°F. Heat skillet over medium heat. Stack 2 tortillas. Sprinkle top with water. Place in skillet, wet side down. Heat 1 minute. Sprinkle top with water. Turn stack over; heat 1 minute. Transfer stack to large sheet of heavy-duty foil. Repeat. Enclose tortillas in foil. Place in oven. Pour oil into medium skillet to reach depth of 1 inch. Attach deep-fry thermometer; heat oil to 350°F. Slide 4 fish strips into oil. Fry until golden, about 4 minutes. Transfer fish to paper-towel-lined baking sheet; place in oven. Repeat. Fill each warm tortilla with 2 fish strips. Top with sauce, cabbage, tomato, squeeze of lime, and dash of hot pepper sauce.\n",
      "Whisk flour, salt, and pepper in bowl; pour in beer, whisking until batter is smooth. Let stand 15 minutes.\n",
      "Sprinkle fish with salt and pepper. Squeeze some lime juice over each strip. Let stand 15 minutes. Mix fish into batter.\n",
      "Preheat oven to 200°F. Heat skillet over medium heat. Stack 2 tortillas. Sprinkle top with water. Place in skillet, wet side down. Heat 1 minute. Sprinkle top with water. Turn stack over; heat 1 minute. Transfer stack to large sheet of heavy-duty foil. Repeat. Enclose tortillas in foil. Place in oven.\n",
      "Pour oil into medium skillet to reach depth of 1 inch. Attach deep-fry thermometer; heat oil to 350°F. Slide 4 fish strips into oil. Fry until golden, about 4 minutes. Transfer fish to paper-towel-lined baking sheet; place in oven. Repeat.\n",
      "Fill each warm tortilla with 2 fish strips. Top with sauce, cabbage, tomato, squeeze of lime, and dash of hot pepper sauce.\n",
      "*Cultured Mexican cream with a slightly nutty flavor and consistency of thin sour cream.\n",
      "*Cultured Mexican cream with a slightly nutty flavor and consistency of thin sour cream.\n"
     ]
    }
   ],
   "source": [
    "ask_question(\"Fish no alcohol\")"
   ]
  }
 ],
 "metadata": {
  "kernelspec": {
   "display_name": "Python 3",
   "language": "python",
   "name": "python3"
  },
  "language_info": {
   "codemirror_mode": {
    "name": "ipython",
    "version": 3
   },
   "file_extension": ".py",
   "mimetype": "text/x-python",
   "name": "python",
   "nbconvert_exporter": "python",
   "pygments_lexer": "ipython3",
   "version": "3.11.3"
  }
 },
 "nbformat": 4,
 "nbformat_minor": 2
}
