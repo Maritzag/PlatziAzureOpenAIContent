{
 "cells": [
  {
   "cell_type": "code",
   "execution_count": 4,
   "metadata": {},
   "outputs": [
    {
     "name": "stdout",
     "output_type": "stream",
     "text": [
      "{ \"statusCode\": 401, \"message\": \"Access denied due to missing subscription key. Make sure to include subscription key when making requests to an API.\" }\n"
     ]
    }
   ],
   "source": [
    "import requests\n",
    "# Endpoint URL\n",
    "url = \"https://{RECURSO_APIMANAGEMENT}.azure-api.net/deployments/gpt-35-turbo/chat/completions?api-version=2023-2023-07-01-previe\"\n",
    "\n",
    "subscriptionkey =\"{VALOR_SUBSCRIPTION_KEY_APPI_MANAGEMENT}\"\n",
    "# Headers\n",
    "headers = {\n",
    "    \"Content-Type\" :\"application/json\",\n",
    "    \"Ocp-Apim-Subscription-Key\":subscriptionkey\n",
    "    \n",
    "\n",
    "}\n",
    "# Request body\n",
    "data = {\"model\": \"{MODELO_DESPLEGADO}\",\"Messages\": \n",
    "    [\n",
    "        {\n",
    "            \"role\":\"user\",\n",
    "            \"content\": \"How can I delete my digital twin?\"\n",
    "        },\n",
    "    ]\t\n",
    "}\n",
    "\n",
    "# Making the POST request\n",
    "response = requests. post (url, headers=headers, json=data)\n",
    "# Printing the response\n",
    "print (response. text)"
   ]
  }
 ],
 "metadata": {
  "kernelspec": {
   "display_name": "Python 3",
   "language": "python",
   "name": "python3"
  },
  "language_info": {
   "codemirror_mode": {
    "name": "ipython",
    "version": 3
   },
   "file_extension": ".py",
   "mimetype": "text/x-python",
   "name": "python",
   "nbconvert_exporter": "python",
   "pygments_lexer": "ipython3",
   "version": "3.11.3"
  }
 },
 "nbformat": 4,
 "nbformat_minor": 2
}
