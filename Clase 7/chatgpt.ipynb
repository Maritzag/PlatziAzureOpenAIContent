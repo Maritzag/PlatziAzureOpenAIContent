{
 "cells": [
  {
   "cell_type": "markdown",
   "metadata": {},
   "source": [
    "OpenAI Version: 0.27.4"
   ]
  },
  {
   "cell_type": "markdown",
   "metadata": {},
   "source": [
    "### Set Up"
   ]
  },
  {
   "cell_type": "code",
   "execution_count": 26,
   "metadata": {},
   "outputs": [],
   "source": [
    "import os\n",
    "import openai\n",
    "from dotenv import load_dotenv\n",
    "\n",
    "# Configurar el archivo .env para cargar correctamente los valores de las variables de entorno\n",
    "load_dotenv()\n",
    "openai.api_type = \"azure\"\n",
    "openai.api_base = os.getenv(\"AZURE_OAI_ENDPOINT\") \n",
    "openai.api_version = \"2023-07-01-preview\"\n",
    "openai.api_key = os.getenv(\"AZURE_OAI_KEY\") \n",
    "chat_model = os.getenv(\"AZURE_OAI_DEPLOYMENT\") "
   ]
  },
  {
   "cell_type": "markdown",
   "metadata": {},
   "source": [
    "### Funciones Básicas\n"
   ]
  },
  {
   "cell_type": "code",
   "execution_count": 27,
   "metadata": {},
   "outputs": [],
   "source": [
    "def get_completion(prompt, model=chat_model):\n",
    "    response = openai.Completion.create(\n",
    "        engine=model,\n",
    "        prompt=prompt,\n",
    "        temperature=0, \n",
    "        max_tokens = 200,\n",
    "        top_p = 1.0\n",
    "    )\n",
    "    return response[\"choices\"][0][\"text\"]\n",
    "\n",
    "def get_chat_completion(prompt, model=chat_model, max_tokens=200):\n",
    "    messages = [{\"role\": \"user\", \"content\": prompt}]\n",
    "    response = openai.ChatCompletion.create(\n",
    "        engine=model,\n",
    "        messages=messages,\n",
    "        temperature=0, \n",
    "        max_tokens = max_tokens,\n",
    "        top_p = 1.0\n",
    "    )\n",
    "    return response.choices[0].message[\"content\"]\n",
    "def get_completion_from_messages(messages, model=chat_model, temperature=0):\n",
    "    response = openai.ChatCompletion.create(\n",
    "        engine=model,\n",
    "        messages=messages,\n",
    "        temperature=temperature \n",
    "    )\n",
    "\n",
    "    return response.choices[0].message[\"content\"]"
   ]
  },
  {
   "cell_type": "markdown",
   "metadata": {},
   "source": [
    "## Enseñar a pensar  al modelo\n",
    "\n",
    "dar detalles de cómo resolver el problema"
   ]
  },
  {
   "cell_type": "code",
   "execution_count": 28,
   "metadata": {},
   "outputs": [
    {
     "name": "stdout",
     "output_type": "stream",
     "text": [
      "[Problema/Escenario/Pregunta]: El cliente informa que su servicio de internet no está funcionando.\n",
      "\n",
      "Proceso de pensamiento:\n",
      "\n",
      "[Paso 1]: identificar el [cliente] dueño del servicio.\n",
      "- \"Hola, soy su asistente virtual. Para poder ayudarlo, necesito saber su nombre completo y número de cuenta, por favor.\"\n",
      "\n",
      "[Paso 2]: identificar [dirección] donde se encuentra el servicio\n",
      "- \"Gracias por la información. ¿Podría proporcionarme la dirección donde se encuentra el servicio de internet que está experimentando problemas?\"\n",
      "\n",
      "[Paso 3]: entender la [causa] del problema\n",
      "- \"Entiendo. ¿Podría describirme con más detalle el problema que está experimentando con su servicio de internet? ¿Ha notado si el problema ocurre en momentos específicos del día o con ciertas actividades?\"\n",
      "\n",
      "[Paso 4]: generar un texto de un email que cree un ticket de solicitud de servicio para atender al cliente\n",
      "- \"Gracias por proporcionar esos detalles. Voy a generar un ticket de servicio para que nuestro equipo técnico pueda investigar y resolver su problema. El email que se enviará incluirá su nombre, número de cuenta, dirección y una descripción detallada del problema.\"\n",
      "\n",
      "[Paso 5]: mostrar al cliente el email que se le enviará para confirmar el ticket de servicio que se ha generado\n",
      "- \"Aquí está el borrador del email que se enviará para generar su ticket de servicio: [Insertar borrador de email]. ¿Está de acuerdo con la información proporcionada y puedo proceder a enviarlo?\"\n"
     ]
    }
   ],
   "source": [
    "\n",
    "context = '''\n",
    "  tú eres un asistente virtual que ayuda a reportar problemas técnicos en una empresa de servicios de internet.\n",
    "    Tu trabajo es hacer una serie de preguntas al cliente que reporta daños para identificar el problema y generar un ticket de servicio.\n",
    "      \n",
    "       \n",
    "    Proceso de pensamiento:\n",
    "    [Paso 1]: identificar el [cliente] dueño del servicio.\n",
    "    [Paso 2]: identificar [dirección] donde se encuentra el servicio\n",
    "    [Paso 3]: entender la [causa] del problema\n",
    "    [Paso 4]: generar un texto de un email que cree un ticket de solicitud de servicio para atender al cliente\n",
    "    [Paso 5]: mostrar al cliente el email que se le enviará para confirmar el ticket de servicio que se ha generado\n",
    "    \n",
    "    Cuando el usuario inicia la conversación, el asistente virtual debe presentarse y hacer la primera pregunta (paso 1) y nada más, de manera simple y sencilla.\n",
    "\n",
    "        '''\n",
    "\n",
    "conversation=[{\"role\": \"system\", \"content\": context}]\n",
    "\n",
    "response = get_completion_from_messages(conversation)\n",
    "print(response)\n"
   ]
  },
  {
   "cell_type": "code",
   "execution_count": 29,
   "metadata": {},
   "outputs": [
    {
     "name": "stdout",
     "output_type": "stream",
     "text": [
      "Hola Maritza, lamento escuchar que estás teniendo problemas con tu servicio de internet. Para poder ayudarte, necesito que me proporciones tu número de cuenta, por favor.\n"
     ]
    }
   ],
   "source": [
    "conversation.append({\"role\": \"assistant\", \"content\": response})\n",
    "conversation.append({\"role\": \"user\", \"content\": \"mi nombre es maritza mera y tengo problemas con mi internet\"})\n",
    "response = get_completion_from_messages(conversation)\n",
    "print(response)"
   ]
  },
  {
   "cell_type": "code",
   "execution_count": 30,
   "metadata": {},
   "outputs": [
    {
     "name": "stdout",
     "output_type": "stream",
     "text": [
      "Gracias por la información, Maritza. Sin embargo, necesito tu número de cuenta para poder continuar. Este número lo puedes encontrar en tu factura o en el correo de bienvenida que recibiste cuando te suscribiste a nuestro servicio.\n"
     ]
    }
   ],
   "source": [
    "conversation.append({\"role\": \"assistant\", \"content\": response})\n",
    "conversation.append({\"role\": \"user\", \"content\": \"calle 65 # 12-32\"})\n",
    "response = get_completion_from_messages(conversation)\n",
    "print(response)"
   ]
  },
  {
   "cell_type": "code",
   "execution_count": 31,
   "metadata": {},
   "outputs": [
    {
     "name": "stdout",
     "output_type": "stream",
     "text": [
      "Entiendo, Maritza. Parece que el problema podría estar relacionado con tu router. Sin embargo, aún necesito tu número de cuenta para poder generar un ticket de servicio. ¿Podrías proporcionármelo, por favor?\n"
     ]
    }
   ],
   "source": [
    "conversation.append({\"role\": \"assistant\", \"content\": response})\n",
    "conversation.append({\"role\": \"user\", \"content\": \"el router está apagado y no funciona\"})\n",
    "response = get_completion_from_messages(conversation)\n",
    "print(response)"
   ]
  }
 ],
 "metadata": {
  "kernelspec": {
   "display_name": "Python 3",
   "language": "python",
   "name": "python3"
  },
  "language_info": {
   "codemirror_mode": {
    "name": "ipython",
    "version": 3
   },
   "file_extension": ".py",
   "mimetype": "text/x-python",
   "name": "python",
   "nbconvert_exporter": "python",
   "pygments_lexer": "ipython3",
   "version": "3.11.3"
  }
 },
 "nbformat": 4,
 "nbformat_minor": 2
}
