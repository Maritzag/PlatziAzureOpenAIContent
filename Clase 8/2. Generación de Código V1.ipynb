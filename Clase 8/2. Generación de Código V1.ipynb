{
 "cells": [
  {
   "cell_type": "markdown",
   "metadata": {},
   "source": [
    "# Generación de código V1\n",
    "\n",
    "### East US: \n",
    "code-davinci-002"
   ]
  },
  {
   "cell_type": "markdown",
   "metadata": {},
   "source": [
    "OpenAI Version: 0.27.4"
   ]
  },
  {
   "cell_type": "code",
   "execution_count": 6,
   "metadata": {},
   "outputs": [
    {
     "name": "stdout",
     "output_type": "stream",
     "text": [
      " Si el elemento no se encuentra, la función devolverá -1.\n",
      "+\n",
      "+3. Escribir una función que reciba un arreglo de enteros y un número n y devuelva el número de veces que aparece n en el arreglo.\n",
      "+\n",
      "+4. Escribir una función que reciba un arreglo de enteros\n"
     ]
    }
   ],
   "source": [
    "\n",
    "import os\n",
    "import openai\n",
    "from dotenv import load_dotenv\n",
    "\n",
    "\n",
    "# Configurar el archivo .env para cargar correctamente los valores de las variables de entorno\n",
    "load_dotenv()\n",
    "openai.api_type = \"azure\"\n",
    "openai.api_base = os.getenv(\"AZURE_OAI_ENDPOINT_CODE\") \n",
    "openai.api_version = os.getenv(\"OPENAI_API_VERSION_CODE\")\n",
    "openai.api_key = os.getenv(\"AZURE_OAI_KEY_CODE\") \n",
    "model = os.getenv(\"AZURE_OAI_DEPLOYMENT_CODE\") \n",
    "\n",
    "\n",
    "response = openai.Completion.create(\n",
    "  engine=model,\n",
    "  prompt=\"escribir una función que realice búsqueda binaria en arreglos ordenado de enterosy devuelva la posición del elemento buscado.\",\n",
    "  temperature=1,\n",
    "  max_tokens=100,\n",
    "  top_p=0.5,\n",
    "  frequency_penalty=0,\n",
    "  presence_penalty=0,\n",
    "  best_of=1,\n",
    "  stop=None)\n",
    "\n",
    "#print (response)\n",
    "\n",
    "#evaluar response\n",
    "\n",
    "#print (response[\"choices\"])\n",
    "#print (response[\"choices\"][0])\n",
    "print (response[\"choices\"][0][\"text\"])\n"
   ]
  },
  {
   "cell_type": "markdown",
   "metadata": {},
   "source": [
    "# Función para consultar Azure OpenAI "
   ]
  },
  {
   "cell_type": "code",
   "execution_count": 14,
   "metadata": {},
   "outputs": [],
   "source": [
    "import os\n",
    "import openai\n",
    "from dotenv import load_dotenv\n",
    "def get_completion(promptCod):  \n",
    "    load_dotenv()\n",
    "    openai.api_type = \"azure\"\n",
    "    openai.api_base = os.getenv(\"AZURE_OAI_ENDPOINT_CODE\") \n",
    "    openai.api_version = \"2023-09-15-preview\"\n",
    "    openai.api_key = os.getenv(\"AZURE_OAI_KEY_CODE\") \n",
    "    model = os.getenv(\"AZURE_OAI_DEPLOYMENT_CODE\") \n",
    "\n",
    "    response = openai.Completion.create(\n",
    "    engine=model,\n",
    "    prompt=promptCod,\n",
    "    temperature=1,\n",
    "    max_tokens=100,\n",
    "    top_p=0.5,\n",
    "    frequency_penalty=0,\n",
    "    presence_penalty=0,\n",
    "    best_of=1,\n",
    "    stop=None)\n",
    "    \n",
    "    return response\n"
   ]
  },
  {
   "cell_type": "markdown",
   "metadata": {},
   "source": [
    "# Cambiar de lenguaje"
   ]
  },
  {
   "cell_type": "code",
   "execution_count": 16,
   "metadata": {},
   "outputs": [
    {
     "name": "stdout",
     "output_type": "stream",
     "text": [
      "# i al cuadrado\n",
      "\n",
      "print_squares(5)\n",
      "\n",
      "# Ejercicio 2: Convertir este código a JAVA\n",
      "def print_squares(n):  \n",
      "    for i in range(1, n+1):  \n",
      "        print(i**2)   # i al cuadrado\n",
      "\n",
      "print_squares(5)\n",
      "\n",
      "# Ejercicio 3: Convertir este código\n"
     ]
    }
   ],
   "source": [
    "promptCode = \"\"\" Convertir este código a JAVA\n",
    "def print_squares(n):  \n",
    "    for i in range(1, n+1):  \n",
    "        print(i**2)   \"\"\"\n",
    "\n",
    "response = get_completion(promptCode)\n",
    "#print (response)\n",
    "#print (response[\"choices\"][0])\n",
    "print (response[\"choices\"][0][\"text\"])"
   ]
  },
  {
   "cell_type": "markdown",
   "metadata": {},
   "source": [
    "# Explicar código"
   ]
  },
  {
   "cell_type": "code",
   "execution_count": 17,
   "metadata": {},
   "outputs": [
    {
     "name": "stdout",
     "output_type": "stream",
     "text": [
      "\n",
      "\n",
      "// 1.3. Implementa una función recursiva que devuelva el n-ésimo número de la\n",
      "// sucesión de Fibonacci.\n",
      "fn fibonacci(n: i32) -> i32 {\n",
      "    if n == 0 {\n",
      "        return 0;\n",
      "    } else if n == 1 {\n",
      "        return 1;\n",
      "    } else {\n",
      "        return fibonacci(n -\n"
     ]
    }
   ],
   "source": [
    "promptCode = \"\"\" podrías explicar en lenguaje natural qué hace este código?\n",
    "fn qzplv(n: i32, m: i32) -> i32 {\n",
    "    if n == 0 {\n",
    "        return m + 1;\n",
    "    } else if m == 0 {\n",
    "        return qzplv(n - 1, 1);\n",
    "    } else {\n",
    "        return qzplv(n - 1, qzplv(n, m - 1));\n",
    "    }\n",
    "}\"\"\"\n",
    "response = get_completion(promptCode)\n",
    "print (response[\"choices\"][0][\"text\"])"
   ]
  },
  {
   "cell_type": "markdown",
   "metadata": {},
   "source": [
    "# Completar Código "
   ]
  },
  {
   "cell_type": "code",
   "execution_count": 18,
   "metadata": {},
   "outputs": [
    {
     "name": "stdout",
     "output_type": "stream",
     "text": [
      "\n",
      "//calcula el cuadrado de un número\n",
      "function cuadrado(numero) {\n",
      "  //código a completar\n",
      "  return numero * numero;\n",
      "}\n",
      "\n",
      "//test\n",
      "console.log(cuadrado(5)); //debería mostrar 25\n",
      "console.log(cuadrado(9)); //debería mostrar 81\n",
      "console.log(cuadrado(3)); //de\n"
     ]
    }
   ],
   "source": [
    "promptCode = \"\"\" podrías completar el código de la siguiente función?\n",
    "//calcula el cuadrado de un número\n",
    "\"\"\"\n",
    "response = get_completion(promptCode)\n",
    "print (response[\"choices\"][0][\"text\"])"
   ]
  },
  {
   "cell_type": "code",
   "execution_count": 19,
   "metadata": {},
   "outputs": [
    {
     "name": "stdout",
     "output_type": "stream",
     "text": [
      "    return cuadrado;\n",
      "}\n",
      "```\n",
      "\n",
      "```\n",
      "¿Qué pasa si en lugar de retornar un número, retornamos una lista?\n",
      "\n",
      "public List<int> ImprimirCuadrado(int n) {\n",
      "    List<int> cuadrado = new List<int>();\n",
      "    cuadrado.Add(n*n);\n",
      " \n",
      "    return cuadrado\n"
     ]
    }
   ],
   "source": [
    "promptCode = \"\"\" podrías completar el código de la siguiente función?\n",
    "public int ImprimirCuadrado(int n) {\n",
    "    int cuadrado = n*n;\n",
    " \n",
    "\"\"\"\n",
    "response = get_completion(promptCode)\n",
    "print (response[\"choices\"][0][\"text\"])"
   ]
  },
  {
   "cell_type": "markdown",
   "metadata": {},
   "source": [
    "# Documentar código"
   ]
  },
  {
   "cell_type": "code",
   "execution_count": 21,
   "metadata": {},
   "outputs": [
    {
     "name": "stdout",
     "output_type": "stream",
     "text": [
      "\n",
      "public static void main(String[] args) {\n",
      "    System.out.println(fibonacci(7));\n",
      "}\n",
      "\n",
      "//Fibonacci: Es una serie de numeros que se generan a partir de la suma de los dos anteriores.\n",
      "//n: numero que se ingresa por consola\n",
      "//return: numero de la serie de fibonacci que se genera a partir de la\n"
     ]
    }
   ],
   "source": [
    "promptCode = \"\"\" Documentar el código de la siguiente funcion\n",
    "public  int fibonacci(int n) {\n",
    "    if (n <= 1) {\n",
    "        return n;\n",
    "    }\n",
    "    return fibonacci(n-1) + fibonacci(n-2);\n",
    "}\n",
    " \n",
    "\"\"\"\n",
    "response = get_completion(promptCode)\n",
    "print (response[\"choices\"][0][\"text\"])"
   ]
  },
  {
   "cell_type": "markdown",
   "metadata": {},
   "source": [
    "# Corregir Errores"
   ]
  },
  {
   "cell_type": "code",
   "execution_count": 25,
   "metadata": {},
   "outputs": [
    {
     "name": "stdout",
     "output_type": "stream",
     "text": [
      "// Corregir la siguiente función\n",
      "public  int Cubo(int n) {\n",
      "    int cubo = n*n*n-1+3;\n",
      "    return cubo;\n",
      "}\n",
      " \n",
      "// Corregir la siguiente función\n",
      "public  int Potencia(int n, int p) {\n",
      "    int potencia = (int) Math.pow(n,p);\n",
      "    return potencia\n"
     ]
    }
   ],
   "source": [
    "promptCode = \"\"\" Corregir la siguiente función\n",
    "public  int Cuadrado(int n) {\n",
    "    int cuadrado = n*n-1+4;\n",
    "    return cuadrado;\n",
    "}\n",
    " \n",
    "\"\"\"\n",
    "response = get_completion(promptCode)\n",
    "print (response[\"choices\"][0][\"text\"])"
   ]
  },
  {
   "cell_type": "markdown",
   "metadata": {},
   "source": [
    "# Mejorar Rendimiento"
   ]
  },
  {
   "cell_type": "code",
   "execution_count": 26,
   "metadata": {},
   "outputs": [
    {
     "name": "stdout",
     "output_type": "stream",
     "text": [
      "public int SumOfN(int n)  \n",
      "{  \n",
      "    return n * (n + 1) / 2;  \n",
      "}  \n",
      "\n",
      "//Encontrar el elemento mayor de un arreglo\n",
      "\n",
      "public int Max(int[] a)  \n",
      "{  \n",
      "    int max = a[0];  \n",
      "    for (int i = 1; i < a.Length; i++)  \n",
      "    {  \n",
      "        if (a[i]\n"
     ]
    }
   ],
   "source": [
    "promptCode = \"\"\" optimizar el siguiente código\n",
    "\n",
    "public int SumOfN(int n)  \n",
    "{  \n",
    "    int result = 0;  \n",
    "    for (int i = 1; i <= n; i++)  \n",
    "    {  \n",
    "        result += i;  \n",
    "    }  \n",
    "    return result;  \n",
    "}  \n",
    " \n",
    "\"\"\"\n",
    "response = get_completion(promptCode)\n",
    "print (response[\"choices\"][0][\"text\"])\n"
   ]
  }
 ],
 "metadata": {
  "kernelspec": {
   "display_name": "Python 3",
   "language": "python",
   "name": "python3"
  },
  "language_info": {
   "codemirror_mode": {
    "name": "ipython",
    "version": 3
   },
   "file_extension": ".py",
   "mimetype": "text/x-python",
   "name": "python",
   "nbconvert_exporter": "python",
   "pygments_lexer": "ipython3",
   "version": "3.11.3"
  }
 },
 "nbformat": 4,
 "nbformat_minor": 2
}
