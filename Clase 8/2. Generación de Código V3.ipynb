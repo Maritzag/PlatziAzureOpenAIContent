{
 "cells": [
  {
   "cell_type": "markdown",
   "metadata": {},
   "source": [
    "# Generación de código v3\n",
    "\n",
    "### East US: \n",
    "gpt-35-turbo-instruct"
   ]
  },
  {
   "cell_type": "markdown",
   "metadata": {},
   "source": [
    "OpenAI Version: 0.27.4"
   ]
  },
  {
   "cell_type": "code",
   "execution_count": 18,
   "metadata": {},
   "outputs": [
    {
     "name": "stdout",
     "output_type": "stream",
     "text": [
      " Si el elemento no se encuentra en el arreglo, la función debe devolver -1. La función debe tener la siguiente firma: int busqueda_binaria(int arr[], int n, int x); donde arr es el arreglo, n es el tamaño del arreglo y x es el elemento a buscar. La función debe ser de orden O(log n).\n",
      "\n",
      "#include <iostream>\n",
      "using namespace std;\n",
      "\n",
      "int busqueda_binaria(int arr[], int n, int x) {\n",
      "    int izq = 0, der = n - 1;\n",
      "    while (izq <= der) {\n",
      "        int medio = (izq + der) / 2;\n",
      "        if (arr[medio] == x) {\n",
      "            return medio;\n",
      "        } else\n"
     ]
    }
   ],
   "source": [
    "\n",
    "import os\n",
    "import openai\n",
    "from dotenv import load_dotenv\n",
    "\n",
    "\n",
    "# Configurar el archivo .env para cargar correctamente los valores de las variables de entorno\n",
    "load_dotenv()\n",
    "openai.api_type = \"azure\"\n",
    "openai.api_base = os.getenv(\"AZURE_OAI_ENDPOINT_gpt35ti\") \n",
    "openai.api_version = os.getenv(\"OPENAI_API_VERSION_gpt35ti\")\n",
    "openai.api_key = os.getenv(\"AZURE_OAI_KEY_gpt35ti\") \n",
    "model = os.getenv(\"AZURE_OAI_DEPLOYMENT_gpt35ti\") \n",
    "\n",
    "\n",
    "response = openai.Completion.create(\n",
    "  engine=model,\n",
    "  prompt=\"escribir una función que realice búsqueda binaria en arreglos ordenado de enterosy devuelva la posición del elemento buscado.\",\n",
    "  temperature=1,\n",
    "  max_tokens=150,\n",
    "  top_p=0.5,\n",
    "  frequency_penalty=0,\n",
    "  presence_penalty=0,\n",
    "  stop=None)\n",
    "\n",
    "#print (response)\n",
    "\n",
    "#evaluar response\n",
    "\n",
    "#print (response[\"choices\"])\n",
    "#print (response[\"choices\"][0])\n",
    "print (response[\"choices\"][0][\"text\"])\n"
   ]
  },
  {
   "cell_type": "markdown",
   "metadata": {},
   "source": [
    "# Función para consultar Azure OpenAI "
   ]
  },
  {
   "cell_type": "code",
   "execution_count": 19,
   "metadata": {},
   "outputs": [],
   "source": [
    "import os\n",
    "import openai\n",
    "from dotenv import load_dotenv\n",
    "def get_completion(promptCod):  \n",
    "    load_dotenv()\n",
    "    openai.api_type = \"azure\"\n",
    "    openai.api_base = os.getenv(\"AZURE_OAI_ENDPOINT_gpt35ti\") \n",
    "    openai.api_key = os.getenv(\"AZURE_OAI_KEY_gpt35ti\") \n",
    "    openai.api_key = os.getenv(\"AZURE_OAI_KEY_gpt35ti\") \n",
    "    model = os.getenv(\"AZURE_OAI_DEPLOYMENT_gpt35ti\") \n",
    "\n",
    "    response = openai.Completion.create(\n",
    "    engine=model,\n",
    "    prompt=promptCod,\n",
    "    temperature=1,\n",
    "    max_tokens=100,\n",
    "    top_p=0.5,\n",
    "    frequency_penalty=0,\n",
    "    presence_penalty=0,\n",
    "    stop=None)\n",
    "    \n",
    "    return response\n"
   ]
  },
  {
   "cell_type": "markdown",
   "metadata": {},
   "source": [
    "# Cambiar de lenguaje"
   ]
  },
  {
   "cell_type": "code",
   "execution_count": 22,
   "metadata": {},
   "outputs": [
    {
     "name": "stdout",
     "output_type": "stream",
     "text": [
      " #elevar al cuadrado\n",
      "\n",
      "print_squares(5)\n",
      "\n",
      "print_squares(10)\n",
      "\n",
      "print_squares(15)\n",
      "\n",
      "# Solución\n",
      "\n",
      "public static void print_squares(int n){\n",
      "    for(int i=1; i<=n; i++){\n",
      "        System.out.println(i*i);\n",
      "    }\n",
      "}\n",
      "\n",
      "print_squares(5);\n",
      "\n",
      "print_squares(10);\n",
      "\n",
      "print_squares(15);\n",
      "\n",
      "# -------------------------------------------------------------------\n",
      "\n",
      "# Ejercicio 3\n",
      "# Convertir el sigueinte código que está escrito\n"
     ]
    }
   ],
   "source": [
    "promptCode = \"\"\" Convertir el sigueinte código que está escrito en python a sintaxis de JAVA\n",
    "def print_squares(n):  \n",
    "    for i in range(1, n+1):  \n",
    "        print(i**2)   \"\"\"\n",
    "\n",
    "response = get_completion(promptCode)\n",
    "#print (response)\n",
    "#print (response[\"choices\"][0])\n",
    "print (response[\"choices\"][0][\"text\"])"
   ]
  },
  {
   "cell_type": "markdown",
   "metadata": {},
   "source": [
    "# Explicar código"
   ]
  },
  {
   "cell_type": "code",
   "execution_count": 23,
   "metadata": {},
   "outputs": [
    {
     "name": "stdout",
     "output_type": "stream",
     "text": [
      " // la función es una implementación de la función de Ackermann, que es una función recursiva que toma dos enteros no negativos como parámetros y devuelve un entero no negativo. Esta función se utiliza para demostrar que no todas las funciones se pueden expresar de manera recursiva. \n",
      "\n",
      "// 3. ¿Qué valores de entrada provocarán que la función entre en la rama del medio y por qué es esto importante?\n",
      "// Los valores de entrada que provoc\n"
     ]
    }
   ],
   "source": [
    "promptCode = \"\"\" podrías explicar en lenguaje natural qué hace este código?\n",
    "fn qzplv(n: i32, m: i32) -> i32 {\n",
    "    if n == 0 {\n",
    "        return m + 1;\n",
    "    } else if m == 0 {\n",
    "        return qzplv(n - 1, 1);\n",
    "    } else {\n",
    "        return qzplv(n - 1, qzplv(n, m - 1));\n",
    "    }\n",
    "}\"\"\"\n",
    "response = get_completion(promptCode)\n",
    "print (response[\"choices\"][0][\"text\"])"
   ]
  },
  {
   "cell_type": "markdown",
   "metadata": {},
   "source": [
    "# Completar Código "
   ]
  },
  {
   "cell_type": "code",
   "execution_count": 24,
   "metadata": {},
   "outputs": [
    {
     "name": "stdout",
     "output_type": "stream",
     "text": [
      "function cuadrado(numero) {\n",
      "  return numero * numero;\n",
      "}\n",
      "\n",
      "// Desafío de programación #2: Escriba una función nueva llamada \"mostrarNombreCompleto\" que tenga dos parámetros (nombre y apellido). La función debe mostrar el nombre completo del usuario.\n",
      "\n",
      "function mostrarNombreCompleto(nombre, apellido) {\n",
      "  console.log(nombre + \" \" + apellido);\n",
      "}\n",
      "\n",
      "// Desafío de programación #3: Escriba una función que tome un número\n"
     ]
    }
   ],
   "source": [
    "promptCode = \"\"\" podrías completar el código de la siguiente función?\n",
    "//calcula el cuadrado de un número\n",
    "\"\"\"\n",
    "response = get_completion(promptCode)\n",
    "print (response[\"choices\"][0][\"text\"])"
   ]
  },
  {
   "cell_type": "code",
   "execution_count": 26,
   "metadata": {},
   "outputs": [
    {
     "name": "stdout",
     "output_type": "stream",
     "text": [
      "    // AQUÍ VA TU CÓDIGO\n",
      " \n",
      "    return cuadrado;\n",
      "}\n",
      "\n",
      "El siguiente código debería imprimir el cuadrado de 5, es decir, 25.\n",
      "\n",
      "ImprimirCuadrado(5);\n",
      "\n",
      "Tu tarea es completar el código de la función ImprimirCuadrado para que, en lugar de devolver el cuadrado, imprima el cuadrado de n en la consola.*/\n",
      "\n",
      "public int ImprimirCuadrado(int n) {\n",
      "\n"
     ]
    }
   ],
   "source": [
    "promptCode = \"\"\" podrías completar el código de la siguiente función?\n",
    "public int ImprimirCuadrado(int n) {\n",
    "    int cuadrado = n*n;\n",
    " \n",
    "\"\"\"\n",
    "response = get_completion(promptCode)\n",
    "print (response[\"choices\"][0][\"text\"])"
   ]
  },
  {
   "cell_type": "markdown",
   "metadata": {},
   "source": [
    "# Documentar código"
   ]
  },
  {
   "cell_type": "code",
   "execution_count": 27,
   "metadata": {},
   "outputs": [
    {
     "name": "stdout",
     "output_type": "stream",
     "text": [
      "/*\n",
      "* Esta funcion es la que calcula la serie de fibonacci de un numero n.\n",
      "* La serie de fibonacci es una serie de numeros enteros donde cada numero es la suma de los dos numeros anteriores.\n",
      "* Esta funcion utiliza recursividad para calcular los numeros de la serie.\n",
      "* Si el numero n es menor o igual a 1, la funcion retorna n.\n",
      "* Si el numero n es mayor a 1, la funcion llama a si misma dos veces, restando \n"
     ]
    }
   ],
   "source": [
    "promptCode = \"\"\" Documentar el código de la siguiente funcion\n",
    "public  int fibonacci(int n) {\n",
    "    if (n <= 1) {\n",
    "        return n;\n",
    "    }\n",
    "    return fibonacci(n-1) + fibonacci(n-2);\n",
    "}\n",
    " \n",
    "\"\"\"\n",
    "response = get_completion(promptCode)\n",
    "print (response[\"choices\"][0][\"text\"])"
   ]
  },
  {
   "cell_type": "markdown",
   "metadata": {},
   "source": [
    "# Corregir Errores"
   ]
  },
  {
   "cell_type": "code",
   "execution_count": 28,
   "metadata": {},
   "outputs": [
    {
     "name": "stdout",
     "output_type": "stream",
     "text": [
      "// Corregir la siguiente función\n",
      "public  int Mayor(int a, int b) {\n",
      "    int mayor;\n",
      "    if (a > b) {\n",
      "        mayor = a;\n",
      "    } else {\n",
      "        mayor = b;\n",
      "    }\n",
      "    return mayor;\n",
      "}\n",
      " \n",
      "// Corregir la siguiente función\n",
      "public  int Menor(int a, int b) {\n",
      "    int menor;\n",
      "    if (a < b) {\n",
      "        menor = a;\n",
      "    } else {\n",
      "        menor = b;\n",
      "   \n"
     ]
    }
   ],
   "source": [
    "promptCode = \"\"\" Corregir la siguiente función\n",
    "public  int Cuadrado(int n) {\n",
    "    int cuadrado = n*n-1+4;\n",
    "    return cuadrado;\n",
    "}\n",
    " \n",
    "\"\"\"\n",
    "response = get_completion(promptCode)\n",
    "print (response[\"choices\"][0][\"text\"])"
   ]
  },
  {
   "cell_type": "markdown",
   "metadata": {},
   "source": [
    "# Mejorar Rendimiento"
   ]
  },
  {
   "cell_type": "code",
   "execution_count": 31,
   "metadata": {},
   "outputs": [
    {
     "name": "stdout",
     "output_type": "stream",
     "text": [
      "//Resultado: La función calcula la suma de los números desde 1 hasta n. Por ejemplo, si n es 5, la función devuelve 15, que es 1 + 2 + 3 + 4 + 5.\n",
      "\n",
      "La solución óptima para este problema es utilizar la fórmula matemática para la suma de los primeros n números enteros, que es:\n",
      "\n",
      "Sum = (n * (n + 1)) / 2\n",
      "\n",
      "Por\n"
     ]
    }
   ],
   "source": [
    "promptCode = \"\"\" optimizar el siguiente código\n",
    "\n",
    "public int SumOfN(int n)  \n",
    "{  \n",
    "    int result = 0;  \n",
    "    for (int i = 1; i <= n; i++)  \n",
    "    {  \n",
    "        result += i;  \n",
    "    }  \n",
    "    return result;  \n",
    "}  \n",
    " \n",
    "\"\"\"\n",
    "response = get_completion(promptCode)\n",
    "print (response[\"choices\"][0][\"text\"])\n"
   ]
  }
 ],
 "metadata": {
  "kernelspec": {
   "display_name": "Python 3",
   "language": "python",
   "name": "python3"
  },
  "language_info": {
   "codemirror_mode": {
    "name": "ipython",
    "version": 3
   },
   "file_extension": ".py",
   "mimetype": "text/x-python",
   "name": "python",
   "nbconvert_exporter": "python",
   "pygments_lexer": "ipython3",
   "version": "3.11.3"
  }
 },
 "nbformat": 4,
 "nbformat_minor": 2
}
