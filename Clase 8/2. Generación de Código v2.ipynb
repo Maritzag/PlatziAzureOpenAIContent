{
 "cells": [
  {
   "cell_type": "markdown",
   "metadata": {},
   "source": [
    "# Generación de código V2\n",
    "\n",
    "### East US: \n",
    "gpt-3.5-turbo-instruct"
   ]
  },
  {
   "cell_type": "markdown",
   "metadata": {},
   "source": [
    "OpenAI Version: 0.27.4"
   ]
  },
  {
   "cell_type": "code",
   "execution_count": 9,
   "metadata": {},
   "outputs": [
    {
     "name": "stdout",
     "output_type": "stream",
     "text": [
      "{\n",
      "  \"choices\": [\n",
      "    {\n",
      "      \"content_filter_results\": {\n",
      "        \"hate\": {\n",
      "          \"filtered\": false,\n",
      "          \"severity\": \"safe\"\n",
      "        },\n",
      "        \"self_harm\": {\n",
      "          \"filtered\": false,\n",
      "          \"severity\": \"safe\"\n",
      "        },\n",
      "        \"sexual\": {\n",
      "          \"filtered\": false,\n",
      "          \"severity\": \"safe\"\n",
      "        },\n",
      "        \"violence\": {\n",
      "          \"filtered\": false,\n",
      "          \"severity\": \"safe\"\n",
      "        }\n",
      "      },\n",
      "      \"finish_reason\": \"length\",\n",
      "      \"index\": 0,\n",
      "      \"logprobs\": null,\n",
      "      \"text\": \"1D. La funci\\u00f3n debe tener los siguientes argumentos:\\n\\n- `arr`: arreglo ordenado 1D de n\\u00fameros enteros.\\n- `x`: n\\u00famero entero a buscar en `arr`.\\n\\nLa funci\\u00f3n debe retornar el \\u00edndice `i` tal que `arr[i] == x`, o `-1` si `x` no se encuentra en `arr`.\\n\\nA continuaci\\u00f3n se muestra un ejemplo de uso de la funci\\u00f3n:\\n\\n```python\\n>>> arr = [1, 2\"\n",
      "    }\n",
      "  ],\n",
      "  \"created\": 1703547062,\n",
      "  \"id\": \"cmpl-8ZohSL5PhedriIuRc7sM09zkCarnj\",\n",
      "  \"model\": \"gpt-35-turbo\",\n",
      "  \"object\": \"text_completion\",\n",
      "  \"prompt_filter_results\": [\n",
      "    {\n",
      "      \"content_filter_results\": {\n",
      "        \"hate\": {\n",
      "          \"filtered\": false,\n",
      "          \"severity\": \"safe\"\n",
      "        },\n",
      "        \"self_harm\": {\n",
      "          \"filtered\": false,\n",
      "          \"severity\": \"safe\"\n",
      "        },\n",
      "        \"sexual\": {\n",
      "          \"filtered\": false,\n",
      "          \"severity\": \"safe\"\n",
      "        },\n",
      "        \"violence\": {\n",
      "          \"filtered\": false,\n",
      "          \"severity\": \"safe\"\n",
      "        }\n",
      "      },\n",
      "      \"prompt_index\": 0\n",
      "    }\n",
      "  ],\n",
      "  \"usage\": {\n",
      "    \"completion_tokens\": 100,\n",
      "    \"prompt_tokens\": 18,\n",
      "    \"total_tokens\": 118\n",
      "  }\n",
      "}\n"
     ]
    }
   ],
   "source": [
    "\n",
    "import os\n",
    "import openai\n",
    "from dotenv import load_dotenv\n",
    "\n",
    "\n",
    "# Configurar el archivo .env para cargar correctamente los valores de las variables de entorno\n",
    "load_dotenv()\n",
    "openai.api_type = \"azure\"\n",
    "openai.api_base = os.getenv(\"AZURE_OAI_ENDPOINT_gpt35t\") \n",
    "openai.api_version = os.getenv(\"OPENAI_API_VERSION_gpt35t\")\n",
    "openai.api_key = os.getenv(\"AZURE_OAI_KEY_gpt35t\") \n",
    "model = os.getenv(\"AZURE_OAI_DEPLOYMENT_gpt35t\") \n",
    "\n",
    "\n",
    "response = openai.Completion.create(\n",
    "  engine=model,\n",
    "  prompt=\"escribir una función que realice búsqueda binaria en arreglos ordenados \",\n",
    "  temperature=1,\n",
    "  max_tokens=100,\n",
    "  top_p=0.5,\n",
    "  frequency_penalty=0,\n",
    "  presence_penalty=0,\n",
    "  stop=None)\n",
    "\n",
    "\n",
    "\n",
    "print (response)\n",
    "\n",
    "#evaluar response\n",
    "\n",
    "#print (response[\"choices\"])\n",
    "#print (response[\"choices\"][0])\n",
    "#print (response[\"choices\"][0][\"text\"])\n"
   ]
  },
  {
   "cell_type": "markdown",
   "metadata": {},
   "source": [
    "# Función para consultar Azure OpenAI "
   ]
  },
  {
   "cell_type": "code",
   "execution_count": 24,
   "metadata": {},
   "outputs": [],
   "source": [
    "import os\n",
    "import openai\n",
    "from dotenv import load_dotenv\n",
    "def get_completion(promptCod):  \n",
    "    load_dotenv()\n",
    "    openai.api_type = \"azure\"\n",
    "    openai.api_base = os.getenv(\"AZURE_OAI_ENDPOINT_gpt35t\") \n",
    "    openai.api_version = os.getenv(\"OPENAI_API_VERSION_gpt35t\")\n",
    "    openai.api_key = os.getenv(\"AZURE_OAI_KEY_gpt35t\") \n",
    "    model = os.getenv(\"AZURE_OAI_DEPLOYMENT_gpt35t\") \n",
    "\n",
    "    response = openai.Completion.create(\n",
    "    engine=model,\n",
    "    prompt=promptCod,\n",
    "    temperature=1,\n",
    "    max_tokens=100,\n",
    "    top_p=0.5,\n",
    "    frequency_penalty=0,\n",
    "    presence_penalty=0,\n",
    "    stop=None)\n",
    "    \n",
    "    return response\n"
   ]
  },
  {
   "cell_type": "markdown",
   "metadata": {},
   "source": [
    "# Cambiar de lenguaje"
   ]
  },
  {
   "cell_type": "code",
   "execution_count": 25,
   "metadata": {},
   "outputs": [
    {
     "name": "stdout",
     "output_type": "stream",
     "text": [
      " # i elevado al cuadrado\n",
      "\n",
      "print_squares(5)\n",
      "\n",
      "# Solución\n",
      "def print_squares(n):  \n",
      "    for i in range(1, n+1):  \n",
      "        print(i**2)    # i elevado al cuadrado\n",
      "\n",
      "print_squares(5)\n",
      "\n",
      "# 1\n",
      "# 4\n",
      "# 9\n",
      "# 16\n",
      "# 25<|im_sep|>\n"
     ]
    }
   ],
   "source": [
    "promptCode = \"\"\" Convertir este código a JAVA\n",
    "def print_squares(n):  \n",
    "    for i in range(1, n+1):  \n",
    "        print(i**2)   \"\"\"\n",
    "\n",
    "response = get_completion(promptCode)\n",
    "#print (response)\n",
    "#print (response[\"choices\"][0])\n",
    "print (response[\"choices\"][0][\"text\"])"
   ]
  },
  {
   "cell_type": "markdown",
   "metadata": {},
   "source": [
    "# Explicar código"
   ]
  },
  {
   "cell_type": "code",
   "execution_count": 26,
   "metadata": {},
   "outputs": [
    {
     "name": "stdout",
     "output_type": "stream",
     "text": [
      " // R/ Esta función recibe dos enteros, n y m, y devuelve un entero. La función se basa en la definición recursiva de la función de Ackermann, que es una función matemática que se utiliza para demostrar la necesidad de la recursión en la programación. La función de Ackermann se define de la siguiente manera: A(m, n) = n + 1 si m = 0; A(m, n) = A(m\n"
     ]
    }
   ],
   "source": [
    "promptCode = \"\"\" podrías explicar en lenguaje natural qué hace este código?\n",
    "fn qzplv(n: i32, m: i32) -> i32 {\n",
    "    if n == 0 {\n",
    "        return m + 1;\n",
    "    } else if m == 0 {\n",
    "        return qzplv(n - 1, 1);\n",
    "    } else {\n",
    "        return qzplv(n - 1, qzplv(n, m - 1));\n",
    "    }\n",
    "}\"\"\"\n",
    "response = get_completion(promptCode)\n",
    "print (response[\"choices\"][0][\"text\"])"
   ]
  },
  {
   "cell_type": "markdown",
   "metadata": {},
   "source": [
    "# Completar Código "
   ]
  },
  {
   "cell_type": "code",
   "execution_count": 27,
   "metadata": {},
   "outputs": [
    {
     "name": "stdout",
     "output_type": "stream",
     "text": [
      "function cuadrado(numero) {\n",
      "  return numero * numero;\n",
      "}\n",
      "\n",
      "// TESTs no modificar\n",
      "console.assert(cuadrado(4) === 16);\n",
      "console.assert(cuadrado(2) === 4);\n",
      "console.assert(cuadrado(3) === 9);\n",
      "console.assert(cuadrado(6) === 36);\n",
      "\n",
      "// 2. ¿Qué valor se encuentra en la variable resultado luego de ejecutar el siguiente código?\n",
      "let resultado = cuadrado(\n"
     ]
    }
   ],
   "source": [
    "promptCode = \"\"\" podrías completar el código de la siguiente función?\n",
    "//calcula el cuadrado de un número\n",
    "\"\"\"\n",
    "response = get_completion(promptCode)\n",
    "print (response[\"choices\"][0][\"text\"])"
   ]
  },
  {
   "cell_type": "code",
   "execution_count": 28,
   "metadata": {},
   "outputs": [
    {
     "name": "stdout",
     "output_type": "stream",
     "text": [
      "    for (int i = 0; i < cuadrado; i++) {\n",
      "        Console.Write(\"*\");\n",
      "        if ((i+1) % n == 0) Console.WriteLine();\n",
      "    }\n",
      "    return cuadrado;\n",
      "}\n",
      "\n",
      "```\n",
      "\n",
      "**Respuesta:** El método ImprimirCuadrado recibe un número entero n, el cual es el tamaño del cuadrado que se desea imprimir. El método retorna el cuadrado de n. El método utiliza un ciclo for para\n"
     ]
    }
   ],
   "source": [
    "promptCode = \"\"\" podrías completar el código de la siguiente función?\n",
    "public int ImprimirCuadrado(int n) {\n",
    "    int cuadrado = n*n;\n",
    " \n",
    "\"\"\"\n",
    "response = get_completion(promptCode)\n",
    "print (response[\"choices\"][0][\"text\"])"
   ]
  },
  {
   "cell_type": "markdown",
   "metadata": {},
   "source": [
    "# Documentar código"
   ]
  },
  {
   "cell_type": "code",
   "execution_count": 29,
   "metadata": {},
   "outputs": [
    {
     "name": "stdout",
     "output_type": "stream",
     "text": [
      "```\n",
      "**Respuesta:**\n",
      "\n",
      "Esta función recibe un número entero `n` y retorna el número de la serie de Fibonacci correspondiente a la posición `n`. La serie de Fibonacci es una serie de números enteros en la que cada número es la suma de los dos números anteriores. La serie comienza con los números 0 y 1, y los siguientes números son la suma de los dos números anteriores. \n",
      "\n",
      "La función es recursiva, lo que significa\n"
     ]
    }
   ],
   "source": [
    "promptCode = \"\"\" Documentar el código de la siguiente funcion\n",
    "public  int fibonacci(int n) {\n",
    "    if (n <= 1) {\n",
    "        return n;\n",
    "    }\n",
    "    return fibonacci(n-1) + fibonacci(n-2);\n",
    "}\n",
    " \n",
    "\"\"\"\n",
    "response = get_completion(promptCode)\n",
    "print (response[\"choices\"][0][\"text\"])"
   ]
  },
  {
   "cell_type": "markdown",
   "metadata": {},
   "source": [
    "# Corregir Errores"
   ]
  },
  {
   "cell_type": "code",
   "execution_count": 30,
   "metadata": {},
   "outputs": [
    {
     "name": "stdout",
     "output_type": "stream",
     "text": [
      "// Corregir la siguiente funcion\n",
      "public  boolean esPar(int n) {\n",
      "    boolean esPar = true;\n",
      "    if (n%2 == 0) {\n",
      "        esPar = true;\n",
      "    } else {\n",
      "        esPar = false;\n",
      "    }\n",
      "    return esPar;\n",
      "}\n",
      " \n",
      "// Corregir la siguiente funcion\n",
      "public  int obtenerMayor(int n1, int n2) {\n",
      "    int mayor = 0;\n",
      "    if (n1 > n2) {\n",
      "       \n"
     ]
    }
   ],
   "source": [
    "promptCode = \"\"\" Corregir la siguiente funcion\n",
    "public  int Cuadrado(int n) {\n",
    "    int cuadrado = n*n-1+4;\n",
    "    return cuadrado;\n",
    "}\n",
    " \n",
    "\"\"\"\n",
    "response = get_completion(promptCode)\n",
    "print (response[\"choices\"][0][\"text\"])"
   ]
  },
  {
   "cell_type": "markdown",
   "metadata": {},
   "source": [
    "# Mejorar Rendimiento"
   ]
  },
  {
   "cell_type": "code",
   "execution_count": 31,
   "metadata": {},
   "outputs": [
    {
     "name": "stdout",
     "output_type": "stream",
     "text": [
      "La solución para optimizar este código es usar la fórmula de la suma de una serie aritmética. La suma de los primeros n números enteros es igual a n(n+1)/2. Entonces, el código se puede reescribir como:\n",
      "\n",
      "public int SumOfN(int n)  \n",
      "{  \n",
      "    return n * (n + 1) / 2;  \n",
      "}  \n",
      "\n",
      "Esta solución es más eficiente porque evita el bucle for\n"
     ]
    }
   ],
   "source": [
    "promptCode = \"\"\" optimizar el siguiente código\n",
    "\n",
    "public int SumOfN(int n)  \n",
    "{  \n",
    "    int result = 0;  \n",
    "    for (int i = 1; i <= n; i++)  \n",
    "    {  \n",
    "        result += i;  \n",
    "    }  \n",
    "    return result;  \n",
    "}  \n",
    " \n",
    "\"\"\"\n",
    "response = get_completion(promptCode)\n",
    "print (response[\"choices\"][0][\"text\"])\n"
   ]
  }
 ],
 "metadata": {
  "kernelspec": {
   "display_name": "Python 3",
   "language": "python",
   "name": "python3"
  },
  "language_info": {
   "codemirror_mode": {
    "name": "ipython",
    "version": 3
   },
   "file_extension": ".py",
   "mimetype": "text/x-python",
   "name": "python",
   "nbconvert_exporter": "python",
   "pygments_lexer": "ipython3",
   "version": "3.11.3"
  }
 },
 "nbformat": 4,
 "nbformat_minor": 2
}
